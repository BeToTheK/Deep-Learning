{
 "cells": [
  {
   "cell_type": "code",
   "execution_count": 4,
   "metadata": {},
   "outputs": [
    {
     "name": "stdout",
     "output_type": "stream",
     "text": [
      "('1D', 1)\n",
      "('2D', 2)\n",
      "('3D', 3)\n",
      "('z1', 3)\n",
      "('z2', 3)\n"
     ]
    }
   ],
   "source": [
    "#this is what handles arrays, import it as an easy name to call it\n",
    "import numpy as np\n",
    "#1D Tensor aka row vector...not that useful\n",
    "x=np.array([1])\n",
    "print('1D',x.ndim)\n",
    "#2D Tensor aka Matrix.....p important\n",
    "y=np.array([[1,2,3,4],[5,6,7,8]])\n",
    "print('2D',y.ndim)\n",
    "#3D Tensor aka a Matrix of matrices....also p important\n",
    "z=np.array([[[1,2,3],[11,12,13]],[[4,5,6],[24,25,26]]])\n",
    "print('3D',z.ndim)\n",
    "z1=np.array([[[1,2,3]],[[4,5,6]]])\n",
    "print('z1',z1.ndim)\n",
    "z2=np.array([[[1,2,3]]])\n",
    "print('z2',z2.ndim)"
   ]
  },
  {
   "cell_type": "code",
   "execution_count": 8,
   "metadata": {},
   "outputs": [
    {
     "name": "stdout",
     "output_type": "stream",
     "text": [
      "('z', (2, 2, 3))\n",
      "('z1', (2, 1, 3))\n",
      "('z2', (1, 1, 3))\n"
     ]
    }
   ],
   "source": [
    "#Shape=( #of matrices, #of rows per matrix, #of elements in each row vec.)\n",
    "print('z',z.shape)\n",
    "print('z1',z1.shape)\n",
    "print('z2',z2.shape)"
   ]
  },
  {
   "cell_type": "code",
   "execution_count": 25,
   "metadata": {},
   "outputs": [
    {
     "name": "stdout",
     "output_type": "stream",
     "text": [
      "[[[ 1  2  3]\n",
      "  [11 12 13]]\n",
      "\n",
      " [[ 4  5  6]\n",
      "  [24 25 26]]]\n",
      "[[[1 2 3]]\n",
      "\n",
      " [[4 5 6]]]\n",
      "[[[1 2 3]]]\n"
     ]
    }
   ],
   "source": [
    "print(z)\n",
    "#z has 2 matrices with 2 rows each with 3 elements\n",
    "print(z1)\n",
    "#z1 has 2 matrices with 1 row each with 3 elem.\n",
    "print(z2)\n",
    "#z2 has 1 matrix with 1 row with 3 elem."
   ]
  },
  {
   "cell_type": "code",
   "execution_count": null,
   "metadata": {},
   "outputs": [],
   "source": []
  }
 ],
 "metadata": {
  "kernelspec": {
   "display_name": "Python 2",
   "language": "python",
   "name": "python2"
  },
  "language_info": {
   "codemirror_mode": {
    "name": "ipython",
    "version": 2
   },
   "file_extension": ".py",
   "mimetype": "text/x-python",
   "name": "python",
   "nbconvert_exporter": "python",
   "pygments_lexer": "ipython2",
   "version": "2.7.14"
  }
 },
 "nbformat": 4,
 "nbformat_minor": 2
}
